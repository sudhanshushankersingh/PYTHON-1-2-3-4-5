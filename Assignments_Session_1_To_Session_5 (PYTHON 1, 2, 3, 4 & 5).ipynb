{
 "cells": [
  {
   "cell_type": "markdown",
   "metadata": {},
   "source": [
    "<font color=blue size=4 align=centre>\n",
    "    <u>---- 2.1 Problem Statement: PYTHON 1 ----</u><br><br>\n",
    "<font>"
   ]
  },
  {
   "cell_type": "markdown",
   "metadata": {},
   "source": [
    "<font color=blue size=3>1) Install Jupyter notebook and run the first program and share the screenshot of the output.</font>"
   ]
  },
  {
   "cell_type": "markdown",
   "metadata": {},
   "source": [
    "Please find the screenshot image \"Jupyter_screenshot.png\" at the github URL https://github.com/sudhanshushankersingh/PYTHON-1-2-3-4-5/blob/master/Jupyter_screenshot.png"
   ]
  },
  {
   "cell_type": "markdown",
   "metadata": {},
   "source": [
    "<font color=blue size=3>2) Write a program which will find all such numbers which are divisible by 7 but are not a multiple of 5, between 2000 and 3200 (both included). \n",
    "The numbers obtained should be printed in a comma-separated sequence on a single line.</font>"
   ]
  },
  {
   "cell_type": "code",
   "execution_count": 7,
   "metadata": {},
   "outputs": [
    {
     "name": "stdout",
     "output_type": "stream",
     "text": [
      "2002,2009,2016,2023,2037,2044,2051,2058,2072,2079,2086,2093,2107,2114,2121,2128,2142,2149,2156,2163,2177,2184,2191,2198,2212,2219,2226,2233,2247,2254,2261,2268,2282,2289,2296,2303,2317,2324,2331,2338,2352,2359,2366,2373,2387,2394,2401,2408,2422,2429,2436,2443,2457,2464,2471,2478,2492,2499,2506,2513,2527,2534,2541,2548,2562,2569,2576,2583,2597,2604,2611,2618,2632,2639,2646,2653,2667,2674,2681,2688,2702,2709,2716,2723,2737,2744,2751,2758,2772,2779,2786,2793,2807,2814,2821,2828,2842,2849,2856,2863,2877,2884,2891,2898,2912,2919,2926,2933,2947,2954,2961,2968,2982,2989,2996,3003,3017,3024,3031,3038,3052,3059,3066,3073,3087,3094,3101,3108,3122,3129,3136,3143,3157,3164,3171,3178,3192,3199"
     ]
    }
   ],
   "source": [
    "list = [x for x in range(2000,3201) if x%7 == 0 and x%5 !=0]\n",
    "count = 0\n",
    "for i in list:\n",
    "    count += 1\n",
    "    print(i, end=\",\" if count < len(list) else \"\")"
   ]
  },
  {
   "cell_type": "markdown",
   "metadata": {},
   "source": [
    "<font color =blue size = 3>3) Write a Python program to accept the user's first and last name and then getting them printed in the the reverse order with a space between first name and last name.</font"
   ]
  },
  {
   "cell_type": "code",
   "execution_count": 10,
   "metadata": {},
   "outputs": [
    {
     "name": "stdout",
     "output_type": "stream",
     "text": [
      "Please enter the first name Sudhanshu\n",
      "Please enter the last name Singh\n",
      "Name in reverse order: Singh Sudhanshu\n"
     ]
    }
   ],
   "source": [
    "first_name = input('Please enter the first name ')\n",
    "last_name = input('Please enter the last name ')\n",
    "print('Name in reverse order:',last_name,first_name)"
   ]
  },
  {
   "cell_type": "markdown",
   "metadata": {},
   "source": [
    "<font color = blue size = 3>4) Write a Python program to find the volume of a sphere with diameter 12 cm.\n",
    "Formula: V=4/3 * π * r 3</font>"
   ]
  },
  {
   "cell_type": "code",
   "execution_count": 24,
   "metadata": {},
   "outputs": [
    {
     "name": "stdout",
     "output_type": "stream",
     "text": [
      "The volume of the sphere is: 904.7786842338603\n"
     ]
    }
   ],
   "source": [
    "import math\n",
    "pi = math.pi\n",
    "diameter = 12.0\n",
    "r= diameter / 2\n",
    "v = 4.0/3.0*pi* r**3\n",
    "print('The volume of the sphere is:',v)"
   ]
  },
  {
   "cell_type": "markdown",
   "metadata": {},
   "source": [
    "<font color=blue size=4> \n",
    "    <u>---- 2.2. Problem Statement: PYTHON 2 ----</u><br><br>\n",
    "</font>"
   ]
  },
  {
   "cell_type": "markdown",
   "metadata": {},
   "source": [
    "<font color=blue size=3>1) Write a program which accepts a sequence of comma-separated numbers from console and generate a list.</font>"
   ]
  },
  {
   "cell_type": "code",
   "execution_count": 6,
   "metadata": {},
   "outputs": [
    {
     "name": "stdout",
     "output_type": "stream",
     "text": [
      "Please enter comma seperated numbers 1,2,3,4,5,6,7,8,9,10\n",
      "Generated List:  ['1', '2', '3', '4', '5', '6', '7', '8', '9', '10']\n"
     ]
    }
   ],
   "source": [
    "numbers = input(\"Please enter comma seperated numbers \")\n",
    "generated_list = numbers.split(\",\")\n",
    "print(\"Generated List: \",generated_list)"
   ]
  },
  {
   "cell_type": "markdown",
   "metadata": {},
   "source": [
    "<font color=blue size=3>2) Create the below pattern using nested for loop in Python.\n",
    "</font>"
   ]
  },
  {
   "cell_type": "code",
   "execution_count": 5,
   "metadata": {},
   "outputs": [
    {
     "name": "stdout",
     "output_type": "stream",
     "text": [
      "\n",
      "*\n",
      "**\n",
      "***\n",
      "****\n",
      "*****\n",
      "****\n",
      "***\n",
      "**\n",
      "*\n"
     ]
    }
   ],
   "source": [
    "# This code is flexible for any pattern and its number of max occurences. We just need to modify the values of max and\n",
    "# pattern variables to change the output pattern\n",
    "max = 5\n",
    "pattern = \"*\"\n",
    "for i in range(max+1):\n",
    "    print(pattern*i)\n",
    "    if i == max:\n",
    "        for j in range(max,1,-1):\n",
    "            i = i-1\n",
    "            print(pattern*i)"
   ]
  },
  {
   "cell_type": "markdown",
   "metadata": {},
   "source": [
    "<font color=blue size=3>3) Write a Python program to reverse a word after accepting the input from the user.\n",
    "Sample Output:\n",
    "Input word: AcadGild\n",
    "Output: dilGdacA </font>"
   ]
  },
  {
   "cell_type": "code",
   "execution_count": 2,
   "metadata": {},
   "outputs": [
    {
     "name": "stdout",
     "output_type": "stream",
     "text": [
      "Input word: AcadGild\n",
      "Output:  dliGdacA\n"
     ]
    }
   ],
   "source": [
    "input_data = input(\"Input word: \")\n",
    "print(\"Output: \",input_data[::-1])"
   ]
  },
  {
   "cell_type": "markdown",
   "metadata": {},
   "source": [
    "<font color=blue size=3>4) Write a Python Program to print the given string in the format specified in the sample output.\n",
    "</font>"
   ]
  },
  {
   "cell_type": "code",
   "execution_count": 4,
   "metadata": {},
   "outputs": [
    {
     "name": "stdout",
     "output_type": "stream",
     "text": [
      "WE, THE PEOPLE OF INDIA,\n",
      "\thaving solemnly resolved to constitute India into a SOVEREIGN,!\n",
      "\t\tSOCIALIST, SECULAR, DEMOCRATIC \n",
      "\t\t REPUBLIC and to secure to all its citizens\n"
     ]
    }
   ],
   "source": [
    "string = \"WE, THE PEOPLE OF INDIA,{}having solemnly resolved to constitute India into a SOVEREIGN,{}SOCIALIST, SECULAR, DEMOCRATIC {}REPUBLIC and to secure to all its citizens\"\n",
    "print(string.format('\\n\\t','!\\n\\t\\t','\\n\\t\\t '))"
   ]
  },
  {
   "cell_type": "markdown",
   "metadata": {},
   "source": [
    "<font color=blue size=4> \n",
    "    <u>---- 2.3. Problem Statement: PYTHON 3 ----<u><br><br>\n",
    "<font>"
   ]
  },
  {
   "cell_type": "markdown",
   "metadata": {},
   "source": [
    "<font color=blue size=3>1.1. Write a Python Program to implement your own myreduce() function which works exactly like Python's built-in function reduce()</font>"
   ]
  },
  {
   "cell_type": "code",
   "execution_count": 6,
   "metadata": {},
   "outputs": [
    {
     "name": "stdout",
     "output_type": "stream",
     "text": [
      "Sum on list [1,2,3,4] using custom reduce function 10\n"
     ]
    }
   ],
   "source": [
    "def myreduce(anyfunc, sequence):\n",
    "    # Get first item in sequence and assign to result\n",
    "    result = sequence[0]\n",
    "    # iterate over remaining items in sequence and apply reduction function \n",
    "    for item in sequence[1:]:\n",
    "        result = anyfunc(result, item)\n",
    "    return result\n",
    "\n",
    "# Testing our own myreduce() function which will return the Sum of all numbers present in the list\n",
    "def sum(x,y):\n",
    "    return x + y\n",
    "\n",
    "print (\"Sum on list [1,2,3,4] using custom reduce function \" + str(myreduce(sum, [1,2,3,4])) )"
   ]
  },
  {
   "cell_type": "markdown",
   "metadata": {},
   "source": [
    "<font color=blue size=3>1.2. Write a Python program to implement your own myfilter() function which works exactly like Python's built-in function filter()</font>"
   ]
  },
  {
   "cell_type": "code",
   "execution_count": 10,
   "metadata": {},
   "outputs": [
    {
     "name": "stdout",
     "output_type": "stream",
     "text": [
      "Even numbers are:  [2, 4, 6, 8, 10]\n",
      "Positive numbers are:  [1, 3, 10, 100, 90, 2.25]\n"
     ]
    }
   ],
   "source": [
    "def myfilter(anyfunc, sequence):\n",
    "    # Initialize empty list\n",
    "    result = []\n",
    "    # iterate over sequence of items in sequence and apply filter function\n",
    "    for item in sequence:\n",
    "        if anyfunc(item):\n",
    "            result.append(item)\n",
    "            # return funal output\n",
    "    return result\n",
    "\n",
    "# Testing our own myfilter() function to find and display positive numbers from a given list of numbers\n",
    "def ispositive(x):\n",
    "    if (x <= 0):\n",
    "        return False\n",
    "    else:\n",
    "        return True\n",
    "\n",
    "# Another test to find even numbers from a given list of numbers\n",
    "def square(k):\n",
    "    if(k%2 == 0):\n",
    "        return True\n",
    "    \n",
    "print(\"Even numbers are: \",myfilter(square,[1,2,3,4,5,6,7,8,9,10]))\n",
    "print(\"Positive numbers are: \",myfilter(ispositive,[1,-2,3,10,-10,100,-9,90,2.25]))"
   ]
  },
  {
   "cell_type": "markdown",
   "metadata": {},
   "source": [
    "<font color=blue size=3>2. Implement List comprehensions to produce the following lists.\n",
    "Write List comprehensions to produce the following Lists.<br>\n",
    "['A', 'C', 'A', 'D', 'G', 'I', ’L’, ‘ D’]<br>\n",
    "['x', 'xx', 'xxx', 'xxxx', 'y', 'yy', 'yyy', 'yyyy', 'z', 'zz', 'zzz', 'zzzz']<br> ['x', 'y', 'z', 'xx', 'yy', 'zz', 'xxx', 'yyy', 'zzz', 'xxxx', 'yyyy', 'zzzz']<br> [[2], [3], [4], [3], [4], [5], [4], [5], [6]]<br> [[2, 3, 4, 5], [3, 4, 5, 6], [4, 5, 6, 7], [5, 6, 7, 8]]<br>\n",
    "[(1, 1), (2, 1), (3, 1), (1, 2), (2, 2), (3, 2), (1, 3), (2, 3), (3, 3)]\n",
    "</font>"
   ]
  },
  {
   "cell_type": "code",
   "execution_count": 58,
   "metadata": {},
   "outputs": [
    {
     "name": "stdout",
     "output_type": "stream",
     "text": [
      "['A', 'C', 'A', 'D', 'G', 'I', 'L', 'D']\n"
     ]
    }
   ],
   "source": [
    "word = \"ACADGILD\"\n",
    "\n",
    "letter_list = [ letters for letters in word ]\n",
    "print (str(letter_list))"
   ]
  },
  {
   "cell_type": "code",
   "execution_count": 31,
   "metadata": {},
   "outputs": [
    {
     "name": "stdout",
     "output_type": "stream",
     "text": [
      "['x', 'xx', 'xxx', 'xxxx', 'y', 'yy', 'yyy', 'yyyy', 'z', 'zz', 'zzz', 'zzzz']\n"
     ]
    }
   ],
   "source": [
    "input_list = ['x','y','z']\n",
    "output_list = [data*num for data in input_list for num in range(1,5)]\n",
    "print (str(output_list))"
   ]
  },
  {
   "cell_type": "code",
   "execution_count": 61,
   "metadata": {},
   "outputs": [
    {
     "name": "stdout",
     "output_type": "stream",
     "text": [
      "['x', 'y', 'z', 'xx', 'yy', 'zz', 'xxx', 'yyy', 'zzz', 'xxxx', 'yyyy', 'zzzz']\n"
     ]
    }
   ],
   "source": [
    "input_list = ['x','y','z']\n",
    "output_list = [num*data for num in range(1,5) for data in input_list]\n",
    "print (str(output_list))"
   ]
  },
  {
   "cell_type": "code",
   "execution_count": 62,
   "metadata": {},
   "outputs": [
    {
     "name": "stdout",
     "output_type": "stream",
     "text": [
      "[[2], [3], [4], [3], [4], [5], [4], [5], [6]]\n"
     ]
    }
   ],
   "source": [
    "input_list = [1,2,3]\n",
    "output_list = [[i+num] for i in input_list for num in range(1,4)]\n",
    "print (str(output_list))"
   ]
  },
  {
   "cell_type": "code",
   "execution_count": 63,
   "metadata": {},
   "outputs": [
    {
     "name": "stdout",
     "output_type": "stream",
     "text": [
      "[[2, 3, 4, 5], [3, 4, 5, 6], [4, 5, 6, 7], [5, 6, 7, 8]]\n"
     ]
    }
   ],
   "source": [
    "input_list = [1,2,3,4]\n",
    "output_list = [[i+num for i in range(1,5)] for num in range(1,5)]\n",
    "print (str(output_list))"
   ]
  },
  {
   "cell_type": "code",
   "execution_count": 66,
   "metadata": {},
   "outputs": [
    {
     "name": "stdout",
     "output_type": "stream",
     "text": [
      "[(1, 1), (2, 1), (3, 1), (1, 2), (2, 2), (3, 2), (1, 3), (2, 3), (3, 3)]\n"
     ]
    }
   ],
   "source": [
    "input_list = [1,2,3]\n",
    "output_list = [(num+1,i) for i in input_list for num in range(0,3)]\n",
    "output_list1 = [ (b,a) for a in input_list for b in input_list]\n",
    "print (str(output_list1))"
   ]
  },
  {
   "cell_type": "markdown",
   "metadata": {},
   "source": [
    "<font color=blue size=3>3. Implement a function longestWord() that takes a list of words and returns the longest one.</font>"
   ]
  },
  {
   "cell_type": "code",
   "execution_count": 4,
   "metadata": {},
   "outputs": [
    {
     "name": "stdout",
     "output_type": "stream",
     "text": [
      "Longest word is jungle having size as 6\n"
     ]
    }
   ],
   "source": [
    "import functools as ft\n",
    "world_list = ['This','is','my','jungle']\n",
    "def findLongestWord(world_list):\n",
    "    output = ft.reduce(lambda x,y: x if(len(x) > len(y)) else y ,world_list)\n",
    "    return output\n",
    "\n",
    "longest_word = findLongestWord(world_list)\n",
    "print(\"Longest word is\",longest_word,\"having size as\",len(longest_word))"
   ]
  },
  {
   "cell_type": "markdown",
   "metadata": {},
   "source": [
    "<font color=blue size=4> \n",
    "    <u>---- 2.4. Problem Statement: PYTHON 4 ----<u>\n",
    "</font>"
   ]
  },
  {
   "cell_type": "markdown",
   "metadata": {},
   "source": [
    "<font color=blue size=3>1.1 Write a Python Program(with class concepts) to find the area of the triangle using the below formula.<br> area = (s*(s-a)*(s-b)*(s-c)) *** 0.5<br>\n",
    "Function to take the length of the sides of triangle from user should be defined in the parent class and function to calculate the area should be defined in subclass.</font>"
   ]
  },
  {
   "cell_type": "code",
   "execution_count": 17,
   "metadata": {},
   "outputs": [
    {
     "name": "stdout",
     "output_type": "stream",
     "text": [
      "Area of the triangle is:  9.921567416492215\n"
     ]
    }
   ],
   "source": [
    "# Parent class having a function to take the length of the sides of triangle\n",
    "class Polygon:\n",
    "\n",
    "    def __init__(self, n):\n",
    "        self.number_of_sides = n\n",
    "\n",
    "    def print_num_sides(self):\n",
    "        print('There are ' + str(self.number_of_sides) + ' sides.')\n",
    "\n",
    "# Class having a function to calculate the area\n",
    "class Triangle(Polygon):\n",
    "\n",
    "    def __init__(self, lengths_of_sides):\n",
    "        Polygon.__init__(self, 3)\n",
    "        self.lengths_of_sides = lengths_of_sides  # list of three numbers\n",
    "\n",
    "    def get_area(self):\n",
    "        '''return the area of the triangle using the semi-perimeter method'''\n",
    "        a, b, c = self.lengths_of_sides\n",
    "\n",
    "        # calculate the area\n",
    "        s = (a + b + c) / 2\n",
    "        return (s*(s-a)*(s-b)*(s-c)) ** 0.5\n",
    "\n",
    "tri = Triangle([4, 5, 6])\n",
    "print(\"Area of the triangle is: \",tri.get_area())"
   ]
  },
  {
   "cell_type": "markdown",
   "metadata": {},
   "source": [
    "<font color=blue size=3>1.2 Write a function filter_long_words() that takes a list of words and an integer n and returns the list of words that are longer than n.</font>"
   ]
  },
  {
   "cell_type": "code",
   "execution_count": 14,
   "metadata": {},
   "outputs": [
    {
     "name": "stdout",
     "output_type": "stream",
     "text": [
      "['elephant', 'monkey', 'butterfly']\n"
     ]
    }
   ],
   "source": [
    "def filter_long_words(words,n):\n",
    "    output = [i for i in words if len(i) > n]\n",
    "    return output\n",
    "\n",
    "n = 4\n",
    "words = ['elephant','dog','monkey','cat','butterfly','hen']\n",
    "result = filter_long_words(words, n)\n",
    "print(result)"
   ]
  },
  {
   "cell_type": "markdown",
   "metadata": {},
   "source": [
    "<font color=blue size=3>2.1 Write a Python program using function concept that maps list of words into a list of integers representing the lengths of the corresponding words.<br>\n",
    "Hint: If a list [ ab,cde,erty] is passed on to the python function output should come as [2,3,4]<br>\n",
    "Here 2,3 and 4 are the lengths of the words in the list.</font>"
   ]
  },
  {
   "cell_type": "code",
   "execution_count": 16,
   "metadata": {},
   "outputs": [
    {
     "name": "stdout",
     "output_type": "stream",
     "text": [
      "List of integers representing the lengths of the corresponding words are [2, 3, 4]\n"
     ]
    }
   ],
   "source": [
    "def words_to_integers(words):\n",
    "    integers = []\n",
    "    for i in words:\n",
    "        integers.append(len(i))\n",
    "    return integers\n",
    "\n",
    "listOfWords = ['ab','cde', 'erty']\n",
    "result = words_to_integers(listOfWords)\n",
    "print(\"List of integers representing the lengths of the corresponding words are\",result)"
   ]
  },
  {
   "cell_type": "markdown",
   "metadata": {},
   "source": [
    "<font color=blue size=3>2.2 Write a Python function which takes a character (i.e. a string of length 1) and returns True if it is a vowel, False otherwise.</font>"
   ]
  },
  {
   "cell_type": "code",
   "execution_count": 24,
   "metadata": {},
   "outputs": [
    {
     "name": "stdout",
     "output_type": "stream",
     "text": [
      "True\n"
     ]
    }
   ],
   "source": [
    "def checkVowel(char):\n",
    "    if char in ['a','e','i','o','u']:\n",
    "        return True\n",
    "    else:\n",
    "        return False\n",
    "charInput = 'u'\n",
    "boolean = checkVowel(charInput)\n",
    "if boolean:\n",
    "    print(\"True\")\n",
    "else:\n",
    "    print(\"False\")"
   ]
  },
  {
   "cell_type": "markdown",
   "metadata": {},
   "source": [
    "<font color=blue size=4> \n",
    "    <u>---- 2.5. Problem Statement: PYTHON 5 ----<u>\n",
    "</font>"
   ]
  },
  {
   "cell_type": "markdown",
   "metadata": {},
   "source": [
    "<font color=blue size=3>1. Write a function to compute 5/0 and use try/except to catch the exceptions.</font>"
   ]
  },
  {
   "cell_type": "code",
   "execution_count": 29,
   "metadata": {},
   "outputs": [
    {
     "name": "stdout",
     "output_type": "stream",
     "text": [
      "Something went wrong while performing the mathematical operation\n"
     ]
    }
   ],
   "source": [
    "def testTryCatch():\n",
    "    try:\n",
    "        result = 5/0\n",
    "    except ArithmeticError:\n",
    "        print(\"Something went wrong while performing the mathematical operation\")\n",
    "    except Exception:\n",
    "        print(\"Something went wrong. Please verify the code and input data and try again\")\n",
    "\n",
    "testTryCatch()"
   ]
  },
  {
   "cell_type": "markdown",
   "metadata": {},
   "source": [
    "<font color=blue size=3>\n",
    "2. Implement a Python program to generate all sentences where subject is in [\"Americans\", \"Indians\"] and verb is in [\"Play\", \"watch\"] and the object is in [\"Baseball\",\"cricket\"].<br>\n",
    "Hint: Subject,Verb and Object should be declared in the program as shown below.<br>\n",
    "subjects=[\"Americans \",\"Indians\"]<br>\n",
    "verbs=[\"play\",\"watch\"]<br>\n",
    "objects=[\"Baseball\",\"Cricket\"]<br>\n",
    "Output should come as below:<br>\n",
    "Americans play Baseball.<br>\n",
    "Americans play Cricket.<br>\n",
    "Americans watch Baseball.<br>\n",
    "Americans watch Cricket.<br>\n",
    "Indians play Baseball.<br>\n",
    "Indians play Cricket.<br>\n",
    "Indians watch Baseball.<br>\n",
    "Indians watch Cricket.<br>\n",
    "</font>"
   ]
  },
  {
   "cell_type": "code",
   "execution_count": 1,
   "metadata": {},
   "outputs": [
    {
     "name": "stdout",
     "output_type": "stream",
     "text": [
      "Americans Play Baseball\n",
      "Americans Play cricket\n",
      "Americans watch Baseball\n",
      "Americans watch cricket\n",
      "Indians Play Baseball\n",
      "Indians Play cricket\n",
      "Indians watch Baseball\n",
      "Indians watch cricket\n"
     ]
    }
   ],
   "source": [
    "subject = [\"Americans\", \"Indians\"]\n",
    "verb = [\"Play\", \"watch\"]\n",
    "object = [\"Baseball\",\"cricket\"]\n",
    "space = \" \"\n",
    "result = [i+space+j+space+k for i in subject for j in verb for k in object]\n",
    "\n",
    "for r in result:\n",
    "    print(r)"
   ]
  },
  {
   "cell_type": "markdown",
   "metadata": {},
   "source": [
    "<font color=blue size=4>project1_Piggy_Bank: implement a small interactive application using concept learnt</font>"
   ]
  },
  {
   "cell_type": "code",
   "execution_count": 1,
   "metadata": {},
   "outputs": [
    {
     "name": "stdout",
     "output_type": "stream",
     "text": [
      "Start or End : Start\n",
      "Add, Withdraw or Check : Add\n",
      "Add Amount : 1000\n",
      "After adding, your updated balance is 1000.0 rupees\n",
      "None\n",
      "Start or End : Start\n",
      "Add, Withdraw or Check : Withdraw\n",
      "Winthdraw amount : 300\n",
      "After withdrawing, your updated balance is 700.0 rupees\n",
      "None\n",
      "Start or End : Start\n",
      "Add, Withdraw or Check : Check\n",
      "Your current balance is 700.0 rupees\n",
      "None\n",
      "Start or End : End\n",
      "Operation ended\n"
     ]
    }
   ],
   "source": [
    "class PiggyBank:\n",
    "    def __init__(self):\n",
    "        self.balance = 0\n",
    "    \n",
    "    def check(self):\n",
    "        return self.balance\n",
    "    \n",
    "    def add(self, amount):\n",
    "            self.balance += amount\n",
    "    \n",
    "    def withdraw(self, amount):\n",
    "            self.balance -= amount\n",
    "            \n",
    "    def takeInput(self):\n",
    "        begin = input(\"Start or End : \")\n",
    "        return begin\n",
    "    \n",
    "    def takeOperationInput(self):\n",
    "        operation = input(\"Add, Withdraw or Check : \")\n",
    "        return operation\n",
    "    \n",
    "    def start(self):\n",
    "        begin = pb.takeInput()\n",
    "        if begin == \"Start\":\n",
    "            operation1 = pb.takeOperationInput()\n",
    "            if operation1 == \"Add\":\n",
    "                amount = float(input(\"Add Amount : \"))\n",
    "                if(amount == 0):\n",
    "                    print(\"You can not place a request for zero money. Please enter a valid amount.\")\n",
    "                elif (amount > 0 and int(self.check()) >=0):\n",
    "                    try:\n",
    "                        pb.add(amount)\n",
    "                        print(\"After adding, your updated balance is\",pb.check(),\"rupees\")\n",
    "                        print(\"None\")\n",
    "                    except ValueError:\n",
    "                        print(\"Please enter a number value and try again\")\n",
    "                else:\n",
    "                    print(\"Negative balance not allowed\")\n",
    "                    pb.start()\n",
    "            elif operation1 == \"Check\":\n",
    "                print(\"Your current balance is\",pb.check(),\"rupees\")\n",
    "                print(\"None\")\n",
    "            elif operation1 == \"Withdraw\":\n",
    "                withdrawAmount = float(input(\"Winthdraw amount : \"))\n",
    "                if(withdrawAmount == 0):\n",
    "                    print(\"You can not place a request for zero money. Please enter a valid amount.\")\n",
    "                elif (withdrawAmount > 0 and int(self.check()) > 0):\n",
    "                    try:\n",
    "                        pb.withdraw(withdrawAmount)\n",
    "                        print(\"After withdrawing, your updated balance is\",pb.check(),\"rupees\")\n",
    "                        print(\"None\")\n",
    "                    except ValueError:\n",
    "                        print(\"Please enter a number value and try again\")\n",
    "                else:\n",
    "                    print(\"Negative balance not allowed\")\n",
    "                    pb.start()\n",
    "            else:\n",
    "                print(\"Could not understand the input. Please try again and be mindful of the case sensitiveness\")\n",
    "        elif begin == \"End\":\n",
    "            print(\"Operation ended\")\n",
    "        else:\n",
    "            print(\"Could not understand the input. Please try again and be mindful of the case sensitiveness\")\n",
    "        if begin != \"End\":\n",
    "            pb.start()\n",
    "\n",
    "pb = PiggyBank()\n",
    "pb.start()"
   ]
  }
 ],
 "metadata": {
  "kernelspec": {
   "display_name": "Python 3",
   "language": "python",
   "name": "python3"
  },
  "language_info": {
   "codemirror_mode": {
    "name": "ipython",
    "version": 3
   },
   "file_extension": ".py",
   "mimetype": "text/x-python",
   "name": "python",
   "nbconvert_exporter": "python",
   "pygments_lexer": "ipython3",
   "version": "3.7.1"
  }
 },
 "nbformat": 4,
 "nbformat_minor": 2
}
